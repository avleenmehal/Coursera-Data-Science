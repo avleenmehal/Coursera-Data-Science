{
    "cells": [
        {
            "cell_type": "code",
            "execution_count": 11,
            "metadata": {},
            "outputs": [
                {
                    "name": "stdout",
                    "output_type": "stream",
                    "text": "Requirement already satisfied: SpeechRecognition in c:\\users\\lenovo\\appdata\\local\\programs\\python\\python38\\lib\\site-packages (3.8.1)\nNote: you may need to restart the kernel to use updated packages.\n"
                }
            ],
            "source": "pip install SpeechRecognition"
        },
        {
            "cell_type": "code",
            "execution_count": 1,
            "metadata": {},
            "outputs": [],
            "source": "import speech_recognition as sr"
        },
        {
            "cell_type": "code",
            "execution_count": 2,
            "metadata": {},
            "outputs": [],
            "source": "filename='male.wav'"
        },
        {
            "cell_type": "code",
            "execution_count": 3,
            "metadata": {},
            "outputs": [],
            "source": "r = sr.Recognizer()"
        },
        {
            "cell_type": "code",
            "execution_count": 7,
            "metadata": {},
            "outputs": [
                {
                    "name": "stdout",
                    "output_type": "stream",
                    "text": "summary the sides to break a teacher for the you keep error code coverage work for places to save money baby is taking longer to getting squared away then the bank is expected in the life event company in AVN had Tak Sahi retirement income the British Oppo new Sevan ragnarok latest update you naked Bond what a discussion can insert when the title of this type of song is in question or waxing or gasing needed diprovate 90% discount by workplace leather lace work on a flat surface and smooth out this time system uses its angles of intent Unity asset store holds a good mechanical isliye bad boss 12 figures with Johar in lete Samay beautiful chairs cabinets test for houses\n"
                }
            ],
            "source": "with sr.AudioFile(filename) as source:\n    # listen for the data (load audio to memory)\n    audio_data = r.record(source)\n    # recognize (convert from speech to text)\n    text = r.recognize_google(audio_data)\n    print(text)"
        },
        {
            "cell_type": "code",
            "execution_count": 4,
            "metadata": {},
            "outputs": [
                {
                    "name": "stdout",
                    "output_type": "stream",
                    "text": "Requirement already satisfied: pyaudio in c:\\users\\lenovo\\appdata\\local\\programs\\python\\python38\\lib\\site-packages (0.2.11)\nNote: you may need to restart the kernel to use updated packages.\n"
                }
            ],
            "source": "pip install pyaudio"
        },
        {
            "cell_type": "code",
            "execution_count": 13,
            "metadata": {},
            "outputs": [
                {
                    "name": "stdout",
                    "output_type": "stream",
                    "text": "Recognizing...\nhow are you where are you bye\n"
                }
            ],
            "source": "with sr.Microphone() as source:\n    # read the audio data from the default microphone\n    audio_data = r.record(source, duration=5)\n    print(\"Recognizing...\")\n    # convert speech to text\n    text = r.recognize_google(audio_data)\n    print(text)\n"
        },
        {
            "cell_type": "code",
            "execution_count": 18,
            "metadata": {},
            "outputs": [
                {
                    "name": "stdout",
                    "output_type": "stream",
                    "text": "Collecting translate\n  Downloading translate-3.5.0-py2.py3-none-any.whl (14 kB)\nCollecting lxml\n  Downloading lxml-4.5.1-cp38-cp38-win_amd64.whl (3.5 MB)\nCollecting pre-commit\n  Downloading pre_commit-2.5.1-py2.py3-none-any.whl (171 kB)\nCollecting click\n  Downloading click-7.1.2-py2.py3-none-any.whl (82 kB)\nRequirement already satisfied: requests in c:\\users\\lenovo\\appdata\\local\\programs\\python\\python38\\lib\\site-packages (from translate) (2.23.0)\nCollecting tox\n  Downloading tox-3.15.2-py2.py3-none-any.whl (137 kB)\nRequirement already satisfied: virtualenv>=20.0.8 in c:\\users\\lenovo\\appdata\\local\\programs\\python\\python38\\lib\\site-packages (from pre-commit->translate) (20.0.18)\nCollecting nodeenv>=0.11.1\n  Downloading nodeenv-1.4.0-py2.py3-none-any.whl (21 kB)\nCollecting cfgv>=2.0.0\n  Downloading cfgv-3.1.0-py2.py3-none-any.whl (7.3 kB)\nCollecting toml\n  Downloading toml-0.10.1-py2.py3-none-any.whl (19 kB)\nCollecting identify>=1.0.0\n  Downloading identify-1.4.19-py2.py3-none-any.whl (97 kB)\nCollecting pyyaml>=5.1\n  Downloading PyYAML-5.3.1-cp38-cp38-win_amd64.whl (219 kB)\nRequirement already satisfied: chardet<4,>=3.0.2 in c:\\users\\lenovo\\appdata\\local\\programs\\python\\python38\\lib\\site-packages (from requests->translate) (3.0.4)\nRequirement already satisfied: certifi>=2017.4.17 in c:\\users\\lenovo\\appdata\\local\\programs\\python\\python38\\lib\\site-packages (from requests->translate) (2020.4.5.1)\nRequirement already satisfied: urllib3!=1.25.0,!=1.25.1,<1.26,>=1.21.1 in c:\\users\\lenovo\\appdata\\local\\programs\\python\\python38\\lib\\site-packages (from requests->translate) (1.25.9)\nRequirement already satisfied: idna<3,>=2.5 in c:\\users\\lenovo\\appdata\\local\\programs\\python\\python38\\lib\\site-packages (from requests->translate) (2.9)\nCollecting py>=1.4.17\n  Downloading py-1.8.1-py2.py3-none-any.whl (83 kB)\nRequirement already satisfied: filelock>=3.0.0 in c:\\users\\lenovo\\appdata\\local\\programs\\python\\python38\\lib\\site-packages (from tox->translate) (3.0.12)\nRequirement already satisfied: six>=1.14.0 in c:\\users\\lenovo\\appdata\\local\\programs\\python\\python38\\lib\\site-packages (from tox->translate) (1.14.0)\nCollecting pluggy>=0.12.0\n  Downloading pluggy-0.13.1-py2.py3-none-any.whl (18 kB)\nRequirement already satisfied: colorama>=0.4.1; platform_system == \"Windows\" in c:\\users\\lenovo\\appdata\\local\\programs\\python\\python38\\lib\\site-packages (from tox->translate) (0.4.3)\nRequirement already satisfied: packaging>=14 in c:\\users\\lenovo\\appdata\\local\\programs\\python\\python38\\lib\\site-packages (from tox->translate) (20.3)\nRequirement already satisfied: distlib<1,>=0.3.0 in c:\\users\\lenovo\\appdata\\local\\programs\\python\\python38\\lib\\site-packages (from virtualenv>=20.0.8->pre-commit->translate) (0.3.0)\nRequirement already satisfied: appdirs<2,>=1.4.3 in c:\\users\\lenovo\\appdata\\local\\programs\\python\\python38\\lib\\site-packages (from virtualenv>=20.0.8->pre-commit->translate) (1.4.3)\nRequirement already satisfied: pyparsing>=2.0.2 in c:\\users\\lenovo\\appdata\\local\\programs\\python\\python38\\lib\\site-packages (from packaging>=14->tox->translate) (2.4.7)\nInstalling collected packages: lxml, nodeenv, cfgv, toml, identify, pyyaml, pre-commit, click, py, pluggy, tox, translate\nSuccessfully installed cfgv-3.1.0 click-7.1.2 identify-1.4.19 lxml-4.5.1 nodeenv-1.4.0 pluggy-0.13.1 pre-commit-2.5.1 py-1.8.1 pyyaml-5.3.1 toml-0.10.1 tox-3.15.2 translate-3.5.0\nNote: you may need to restart the kernel to use updated packages.\n"
                }
            ],
            "source": "pip install translate"
        },
        {
            "cell_type": "code",
            "execution_count": 14,
            "metadata": {},
            "outputs": [
                {
                    "name": "stdout",
                    "output_type": "stream",
                    "text": "\u0915\u0948\u0938\u0947 \u0939\u094b \u0924\u0941\u092e \u0915\u0939\u093e\u0901 \u0939\u094b \u0905\u0932\u0935\u093f\u0926\u093e\n"
                }
            ],
            "source": "from translate import Translator\ntranslator= Translator(to_lang=\"Hindi\")\ntranslation = translator.translate(text)\nprint (translation)"
        },
        {
            "cell_type": "code",
            "execution_count": null,
            "metadata": {},
            "outputs": [],
            "source": ""
        }
    ],
    "metadata": {
        "kernelspec": {
            "display_name": "Python 3.6",
            "language": "python",
            "name": "python3"
        },
        "language_info": {
            "codemirror_mode": {
                "name": "ipython",
                "version": 3
            },
            "file_extension": ".py",
            "mimetype": "text/x-python",
            "name": "python",
            "nbconvert_exporter": "python",
            "pygments_lexer": "ipython3",
            "version": "3.6.9"
        }
    },
    "nbformat": 4,
    "nbformat_minor": 4
}